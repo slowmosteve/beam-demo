{
 "cells": [
  {
   "cell_type": "code",
   "execution_count": 1,
   "id": "1b06691a",
   "metadata": {},
   "outputs": [],
   "source": [
    "## download source data\n",
    "# !wget --show-progress --continue -O ./data/shakespeare.txt https://www.gutenberg.org/files/100/100-0.txt"
   ]
  },
  {
   "cell_type": "code",
   "execution_count": 2,
   "id": "ba59efc0",
   "metadata": {},
   "outputs": [],
   "source": [
    "import pandas\n",
    "import numpy\n",
    "\n",
    "import tensorflow_hub as hub\n",
    "from sklearn.cluster import KMeans\n",
    "\n",
    "from joblib import dump, load"
   ]
  },
  {
   "cell_type": "code",
   "execution_count": 3,
   "id": "435fda96",
   "metadata": {},
   "outputs": [],
   "source": [
    "input_data = './data/shakespeare.txt'\n",
    "sentence_encoder = 'https://tfhub.dev/google/universal-sentence-encoder/4'\n",
    "model_name = 'kmeans_shakespeare.joblib'\n",
    "mapping_file = 'topic-mapping.json'"
   ]
  },
  {
   "cell_type": "code",
   "execution_count": 4,
   "id": "042a7491",
   "metadata": {},
   "outputs": [],
   "source": [
    "embed = hub.load(sentence_encoder)"
   ]
  },
  {
   "cell_type": "code",
   "execution_count": 5,
   "id": "549a2a65",
   "metadata": {},
   "outputs": [],
   "source": [
    "df = pandas.read_csv(input_data, delimiter='\\n', header=None, names=['line_text'], skiprows=82, skip_blank_lines=True)"
   ]
  },
  {
   "cell_type": "code",
   "execution_count": 6,
   "id": "8a8c7df4",
   "metadata": {},
   "outputs": [
    {
     "data": {
      "text/html": [
       "<div>\n",
       "<style scoped>\n",
       "    .dataframe tbody tr th:only-of-type {\n",
       "        vertical-align: middle;\n",
       "    }\n",
       "\n",
       "    .dataframe tbody tr th {\n",
       "        vertical-align: top;\n",
       "    }\n",
       "\n",
       "    .dataframe thead th {\n",
       "        text-align: right;\n",
       "    }\n",
       "</style>\n",
       "<table border=\"1\" class=\"dataframe\">\n",
       "  <thead>\n",
       "    <tr style=\"text-align: right;\">\n",
       "      <th></th>\n",
       "      <th>line_text</th>\n",
       "    </tr>\n",
       "  </thead>\n",
       "  <tbody>\n",
       "    <tr>\n",
       "      <th>0</th>\n",
       "      <td>THE SONNETS</td>\n",
       "    </tr>\n",
       "    <tr>\n",
       "      <th>1</th>\n",
       "      <td>1</td>\n",
       "    </tr>\n",
       "    <tr>\n",
       "      <th>2</th>\n",
       "      <td>From fairest creatures we desire increase,</td>\n",
       "    </tr>\n",
       "    <tr>\n",
       "      <th>3</th>\n",
       "      <td>That thereby beauty’s rose might never die,</td>\n",
       "    </tr>\n",
       "    <tr>\n",
       "      <th>4</th>\n",
       "      <td>But as the riper should by time decease,</td>\n",
       "    </tr>\n",
       "  </tbody>\n",
       "</table>\n",
       "</div>"
      ],
      "text/plain": [
       "                                     line_text\n",
       "0                                  THE SONNETS\n",
       "1                                            1\n",
       "2   From fairest creatures we desire increase,\n",
       "3  That thereby beauty’s rose might never die,\n",
       "4     But as the riper should by time decease,"
      ]
     },
     "execution_count": 6,
     "metadata": {},
     "output_type": "execute_result"
    }
   ],
   "source": [
    "df.head()"
   ]
  },
  {
   "cell_type": "code",
   "execution_count": 7,
   "id": "d60cce4a",
   "metadata": {},
   "outputs": [],
   "source": [
    "embeddings = embed(df['line_text']).numpy()"
   ]
  },
  {
   "cell_type": "code",
   "execution_count": 8,
   "id": "7e40d5aa",
   "metadata": {},
   "outputs": [
    {
     "data": {
      "text/plain": [
       "(141146, 512)"
      ]
     },
     "execution_count": 8,
     "metadata": {},
     "output_type": "execute_result"
    }
   ],
   "source": [
    "embeddings.shape"
   ]
  },
  {
   "cell_type": "code",
   "execution_count": 9,
   "id": "2e54ffda",
   "metadata": {},
   "outputs": [],
   "source": [
    "df['embeddings'] = embeddings.tolist()"
   ]
  },
  {
   "cell_type": "code",
   "execution_count": 10,
   "id": "b9549865",
   "metadata": {},
   "outputs": [
    {
     "data": {
      "text/html": [
       "<div>\n",
       "<style scoped>\n",
       "    .dataframe tbody tr th:only-of-type {\n",
       "        vertical-align: middle;\n",
       "    }\n",
       "\n",
       "    .dataframe tbody tr th {\n",
       "        vertical-align: top;\n",
       "    }\n",
       "\n",
       "    .dataframe thead th {\n",
       "        text-align: right;\n",
       "    }\n",
       "</style>\n",
       "<table border=\"1\" class=\"dataframe\">\n",
       "  <thead>\n",
       "    <tr style=\"text-align: right;\">\n",
       "      <th></th>\n",
       "      <th>line_text</th>\n",
       "      <th>embeddings</th>\n",
       "    </tr>\n",
       "  </thead>\n",
       "  <tbody>\n",
       "    <tr>\n",
       "      <th>0</th>\n",
       "      <td>THE SONNETS</td>\n",
       "      <td>[0.05156312510371208, -0.05281050503253937, 0....</td>\n",
       "    </tr>\n",
       "    <tr>\n",
       "      <th>1</th>\n",
       "      <td>1</td>\n",
       "      <td>[-0.010349195450544357, -0.0831797868013382, -...</td>\n",
       "    </tr>\n",
       "    <tr>\n",
       "      <th>2</th>\n",
       "      <td>From fairest creatures we desire increase,</td>\n",
       "      <td>[0.006797707639634609, -0.07115708291530609, 0...</td>\n",
       "    </tr>\n",
       "    <tr>\n",
       "      <th>3</th>\n",
       "      <td>That thereby beauty’s rose might never die,</td>\n",
       "      <td>[0.053660713136196136, -0.04407283291220665, 0...</td>\n",
       "    </tr>\n",
       "    <tr>\n",
       "      <th>4</th>\n",
       "      <td>But as the riper should by time decease,</td>\n",
       "      <td>[0.058182988315820694, -0.006165965460240841, ...</td>\n",
       "    </tr>\n",
       "  </tbody>\n",
       "</table>\n",
       "</div>"
      ],
      "text/plain": [
       "                                     line_text  \\\n",
       "0                                  THE SONNETS   \n",
       "1                                            1   \n",
       "2   From fairest creatures we desire increase,   \n",
       "3  That thereby beauty’s rose might never die,   \n",
       "4     But as the riper should by time decease,   \n",
       "\n",
       "                                          embeddings  \n",
       "0  [0.05156312510371208, -0.05281050503253937, 0....  \n",
       "1  [-0.010349195450544357, -0.0831797868013382, -...  \n",
       "2  [0.006797707639634609, -0.07115708291530609, 0...  \n",
       "3  [0.053660713136196136, -0.04407283291220665, 0...  \n",
       "4  [0.058182988315820694, -0.006165965460240841, ...  "
      ]
     },
     "execution_count": 10,
     "metadata": {},
     "output_type": "execute_result"
    }
   ],
   "source": [
    "df.head()"
   ]
  },
  {
   "cell_type": "code",
   "execution_count": 11,
   "id": "e7bae188",
   "metadata": {},
   "outputs": [
    {
     "data": {
      "text/plain": [
       "(141146, 512)"
      ]
     },
     "execution_count": 11,
     "metadata": {},
     "output_type": "execute_result"
    }
   ],
   "source": [
    "# rearrange embedding series from dataframe into vertical stack for kmeans model\n",
    "X = numpy.vstack(df['embeddings'])\n",
    "X.shape"
   ]
  },
  {
   "cell_type": "code",
   "execution_count": 12,
   "id": "d6d84d32",
   "metadata": {},
   "outputs": [],
   "source": [
    "# create the kmeans classifier\n",
    "num_topics = 10\n",
    "kmeans = KMeans(n_clusters = num_topics, init = 'k-means++', max_iter = 100, random_state = 0)\n",
    "y_kmeans = kmeans.fit_predict(X)"
   ]
  },
  {
   "cell_type": "code",
   "execution_count": 13,
   "id": "e2336f19",
   "metadata": {},
   "outputs": [],
   "source": [
    "# add cluster predictions to dataframe\n",
    "df['cluster'] = y_kmeans"
   ]
  },
  {
   "cell_type": "code",
   "execution_count": 14,
   "id": "692a386d",
   "metadata": {},
   "outputs": [],
   "source": [
    "# add distance to nearest cluster\n",
    "df['distance'] = numpy.min(kmeans.fit_transform(X), axis=1)"
   ]
  },
  {
   "cell_type": "code",
   "execution_count": 15,
   "id": "37d5ae44",
   "metadata": {},
   "outputs": [
    {
     "data": {
      "text/html": [
       "<div>\n",
       "<style scoped>\n",
       "    .dataframe tbody tr th:only-of-type {\n",
       "        vertical-align: middle;\n",
       "    }\n",
       "\n",
       "    .dataframe tbody tr th {\n",
       "        vertical-align: top;\n",
       "    }\n",
       "\n",
       "    .dataframe thead th {\n",
       "        text-align: right;\n",
       "    }\n",
       "</style>\n",
       "<table border=\"1\" class=\"dataframe\">\n",
       "  <thead>\n",
       "    <tr style=\"text-align: right;\">\n",
       "      <th></th>\n",
       "      <th>line_text</th>\n",
       "      <th>cluster</th>\n",
       "      <th>distance</th>\n",
       "    </tr>\n",
       "  </thead>\n",
       "  <tbody>\n",
       "    <tr>\n",
       "      <th>86193</th>\n",
       "      <td>BENEDICK.</td>\n",
       "      <td>0</td>\n",
       "      <td>0.699447</td>\n",
       "    </tr>\n",
       "    <tr>\n",
       "      <th>86490</th>\n",
       "      <td>BENEDICK.</td>\n",
       "      <td>0</td>\n",
       "      <td>0.699447</td>\n",
       "    </tr>\n",
       "    <tr>\n",
       "      <th>86483</th>\n",
       "      <td>BENEDICK.</td>\n",
       "      <td>0</td>\n",
       "      <td>0.699447</td>\n",
       "    </tr>\n",
       "    <tr>\n",
       "      <th>83233</th>\n",
       "      <td>BENEDICK.</td>\n",
       "      <td>0</td>\n",
       "      <td>0.699447</td>\n",
       "    </tr>\n",
       "    <tr>\n",
       "      <th>86468</th>\n",
       "      <td>BENEDICK.</td>\n",
       "      <td>0</td>\n",
       "      <td>0.699447</td>\n",
       "    </tr>\n",
       "  </tbody>\n",
       "</table>\n",
       "</div>"
      ],
      "text/plain": [
       "             line_text  cluster  distance\n",
       "86193        BENEDICK.        0  0.699447\n",
       "86490        BENEDICK.        0  0.699447\n",
       "86483        BENEDICK.        0  0.699447\n",
       "83233        BENEDICK.        0  0.699447\n",
       "86468        BENEDICK.        0  0.699447"
      ]
     },
     "execution_count": 15,
     "metadata": {},
     "output_type": "execute_result"
    }
   ],
   "source": [
    "# evaluate closest articles for cluster 0\n",
    "pandas.set_option('display.max_colwidth', None)\n",
    "df[['line_text','cluster','distance']][df['cluster'] == 0].sort_values(by=['distance']).head(5)"
   ]
  },
  {
   "cell_type": "code",
   "execution_count": 16,
   "id": "d77806bd",
   "metadata": {},
   "outputs": [
    {
     "data": {
      "text/html": [
       "<div>\n",
       "<style scoped>\n",
       "    .dataframe tbody tr th:only-of-type {\n",
       "        vertical-align: middle;\n",
       "    }\n",
       "\n",
       "    .dataframe tbody tr th {\n",
       "        vertical-align: top;\n",
       "    }\n",
       "\n",
       "    .dataframe thead th {\n",
       "        text-align: right;\n",
       "    }\n",
       "</style>\n",
       "<table border=\"1\" class=\"dataframe\">\n",
       "  <thead>\n",
       "    <tr style=\"text-align: right;\">\n",
       "      <th></th>\n",
       "      <th>line_text</th>\n",
       "      <th>cluster</th>\n",
       "      <th>distance</th>\n",
       "    </tr>\n",
       "  </thead>\n",
       "  <tbody>\n",
       "    <tr>\n",
       "      <th>73996</th>\n",
       "      <td>I should be guiltier than my guiltiness,</td>\n",
       "      <td>1</td>\n",
       "      <td>0.794074</td>\n",
       "    </tr>\n",
       "    <tr>\n",
       "      <th>15251</th>\n",
       "      <td>Thither I must, although against my will,</td>\n",
       "      <td>1</td>\n",
       "      <td>0.797250</td>\n",
       "    </tr>\n",
       "    <tr>\n",
       "      <th>101239</th>\n",
       "      <td>For she that scorn'd at me, now scorn'd of me;</td>\n",
       "      <td>1</td>\n",
       "      <td>0.800874</td>\n",
       "    </tr>\n",
       "    <tr>\n",
       "      <th>22379</th>\n",
       "      <td>I must be ripp’d. To pieces with me! O,</td>\n",
       "      <td>1</td>\n",
       "      <td>0.801346</td>\n",
       "    </tr>\n",
       "    <tr>\n",
       "      <th>128524</th>\n",
       "      <td>I'll get me such a colour'd periwig.</td>\n",
       "      <td>1</td>\n",
       "      <td>0.806056</td>\n",
       "    </tr>\n",
       "  </tbody>\n",
       "</table>\n",
       "</div>"
      ],
      "text/plain": [
       "                                                 line_text  cluster  distance\n",
       "73996             I should be guiltier than my guiltiness,        1  0.794074\n",
       "15251            Thither I must, although against my will,        1  0.797250\n",
       "101239      For she that scorn'd at me, now scorn'd of me;        1  0.800874\n",
       "22379              I must be ripp’d. To pieces with me! O,        1  0.801346\n",
       "128524                I'll get me such a colour'd periwig.        1  0.806056"
      ]
     },
     "execution_count": 16,
     "metadata": {},
     "output_type": "execute_result"
    }
   ],
   "source": [
    "# evaluate closest articles for cluster 1\n",
    "pandas.set_option('display.max_colwidth', None)\n",
    "df[['line_text','cluster','distance']][df['cluster'] == 1].sort_values(by=['distance']).head(5)"
   ]
  },
  {
   "cell_type": "code",
   "execution_count": 17,
   "id": "42d1c3f0",
   "metadata": {},
   "outputs": [
    {
     "data": {
      "text/html": [
       "<div>\n",
       "<style scoped>\n",
       "    .dataframe tbody tr th:only-of-type {\n",
       "        vertical-align: middle;\n",
       "    }\n",
       "\n",
       "    .dataframe tbody tr th {\n",
       "        vertical-align: top;\n",
       "    }\n",
       "\n",
       "    .dataframe thead th {\n",
       "        text-align: right;\n",
       "    }\n",
       "</style>\n",
       "<table border=\"1\" class=\"dataframe\">\n",
       "  <thead>\n",
       "    <tr style=\"text-align: right;\">\n",
       "      <th></th>\n",
       "      <th>line_text</th>\n",
       "      <th>cluster</th>\n",
       "      <th>distance</th>\n",
       "    </tr>\n",
       "  </thead>\n",
       "  <tbody>\n",
       "    <tr>\n",
       "      <th>105532</th>\n",
       "      <td>To you and your behests; and am enjoin’d</td>\n",
       "      <td>2</td>\n",
       "      <td>0.801851</td>\n",
       "    </tr>\n",
       "    <tr>\n",
       "      <th>112467</th>\n",
       "      <td>Come hither from the furrow, and be merry:</td>\n",
       "      <td>2</td>\n",
       "      <td>0.803606</td>\n",
       "    </tr>\n",
       "    <tr>\n",
       "      <th>24525</th>\n",
       "      <td>’Twixt amorous and villainous. Being thus quench’d</td>\n",
       "      <td>2</td>\n",
       "      <td>0.808543</td>\n",
       "    </tr>\n",
       "    <tr>\n",
       "      <th>111711</th>\n",
       "      <td>Come on, then; down, and swear.</td>\n",
       "      <td>2</td>\n",
       "      <td>0.809055</td>\n",
       "    </tr>\n",
       "    <tr>\n",
       "      <th>122926</th>\n",
       "      <td>That noseless, handless, hack’d and chipp’d, come to him,</td>\n",
       "      <td>2</td>\n",
       "      <td>0.811197</td>\n",
       "    </tr>\n",
       "  </tbody>\n",
       "</table>\n",
       "</div>"
      ],
      "text/plain": [
       "                                                        line_text  cluster  \\\n",
       "105532                   To you and your behests; and am enjoin’d        2   \n",
       "112467                 Come hither from the furrow, and be merry:        2   \n",
       "24525          ’Twixt amorous and villainous. Being thus quench’d        2   \n",
       "111711                            Come on, then; down, and swear.        2   \n",
       "122926  That noseless, handless, hack’d and chipp’d, come to him,        2   \n",
       "\n",
       "        distance  \n",
       "105532  0.801851  \n",
       "112467  0.803606  \n",
       "24525   0.808543  \n",
       "111711  0.809055  \n",
       "122926  0.811197  "
      ]
     },
     "execution_count": 17,
     "metadata": {},
     "output_type": "execute_result"
    }
   ],
   "source": [
    "# evaluate closest articles for cluster 2\n",
    "pandas.set_option('display.max_colwidth', None)\n",
    "df[['line_text','cluster','distance']][df['cluster'] == 2].sort_values(by=['distance']).head(5)"
   ]
  },
  {
   "cell_type": "code",
   "execution_count": 18,
   "id": "adf2a385",
   "metadata": {},
   "outputs": [
    {
     "data": {
      "text/plain": [
       "cluster\n",
       "0    12888\n",
       "1    18690\n",
       "2    12583\n",
       "3    20368\n",
       "4    23752\n",
       "5     8796\n",
       "6     6266\n",
       "7    12774\n",
       "8    10388\n",
       "9    14641\n",
       "Name: line_text, dtype: int64"
      ]
     },
     "execution_count": 18,
     "metadata": {},
     "output_type": "execute_result"
    }
   ],
   "source": [
    "# evaluate distribution by topics\n",
    "topic_df = df.groupby('cluster')['line_text']\n",
    "topic_count = topic_df.count()\n",
    "topic_count"
   ]
  },
  {
   "cell_type": "code",
   "execution_count": 19,
   "id": "d7782bc6",
   "metadata": {},
   "outputs": [
    {
     "data": {
      "text/html": [
       "<div>\n",
       "<style scoped>\n",
       "    .dataframe tbody tr th:only-of-type {\n",
       "        vertical-align: middle;\n",
       "    }\n",
       "\n",
       "    .dataframe tbody tr th {\n",
       "        vertical-align: top;\n",
       "    }\n",
       "\n",
       "    .dataframe thead th {\n",
       "        text-align: right;\n",
       "    }\n",
       "</style>\n",
       "<table border=\"1\" class=\"dataframe\">\n",
       "  <thead>\n",
       "    <tr style=\"text-align: right;\">\n",
       "      <th></th>\n",
       "      <th>line_text</th>\n",
       "      <th>cluster</th>\n",
       "      <th>distance</th>\n",
       "    </tr>\n",
       "  </thead>\n",
       "  <tbody>\n",
       "    <tr>\n",
       "      <th>83225</th>\n",
       "      <td>BENEDICK.</td>\n",
       "      <td>0</td>\n",
       "      <td>0.699447</td>\n",
       "    </tr>\n",
       "    <tr>\n",
       "      <th>73996</th>\n",
       "      <td>I should be guiltier than my guiltiness,</td>\n",
       "      <td>1</td>\n",
       "      <td>0.794074</td>\n",
       "    </tr>\n",
       "    <tr>\n",
       "      <th>105532</th>\n",
       "      <td>To you and your behests; and am enjoin’d</td>\n",
       "      <td>2</td>\n",
       "      <td>0.801851</td>\n",
       "    </tr>\n",
       "    <tr>\n",
       "      <th>47838</th>\n",
       "      <td>Thou wouldst have left thy dearest heart-blood there</td>\n",
       "      <td>3</td>\n",
       "      <td>0.776139</td>\n",
       "    </tr>\n",
       "    <tr>\n",
       "      <th>69814</th>\n",
       "      <td>Authoris’d by her grandam. Shame itself!</td>\n",
       "      <td>4</td>\n",
       "      <td>0.846987</td>\n",
       "    </tr>\n",
       "    <tr>\n",
       "      <th>57140</th>\n",
       "      <td>And keep us all in servile fearfulness.</td>\n",
       "      <td>5</td>\n",
       "      <td>0.762489</td>\n",
       "    </tr>\n",
       "    <tr>\n",
       "      <th>118811</th>\n",
       "      <td>ANDARUS.</td>\n",
       "      <td>6</td>\n",
       "      <td>0.656141</td>\n",
       "    </tr>\n",
       "    <tr>\n",
       "      <th>27196</th>\n",
       "      <td>Will bring him to his wonted way again,</td>\n",
       "      <td>7</td>\n",
       "      <td>0.779803</td>\n",
       "    </tr>\n",
       "    <tr>\n",
       "      <th>63033</th>\n",
       "      <td>Come forth.</td>\n",
       "      <td>8</td>\n",
       "      <td>0.786633</td>\n",
       "    </tr>\n",
       "    <tr>\n",
       "      <th>54656</th>\n",
       "      <td>ELINOR. Out, insolent! Thy bastard shall be king,</td>\n",
       "      <td>9</td>\n",
       "      <td>0.769182</td>\n",
       "    </tr>\n",
       "  </tbody>\n",
       "</table>\n",
       "</div>"
      ],
      "text/plain": [
       "                                                       line_text  cluster  \\\n",
       "83225                                                  BENEDICK.        0   \n",
       "73996                   I should be guiltier than my guiltiness,        1   \n",
       "105532                  To you and your behests; and am enjoin’d        2   \n",
       "47838       Thou wouldst have left thy dearest heart-blood there        3   \n",
       "69814                   Authoris’d by her grandam. Shame itself!        4   \n",
       "57140                    And keep us all in servile fearfulness.        5   \n",
       "118811                                                  ANDARUS.        6   \n",
       "27196                    Will bring him to his wonted way again,        7   \n",
       "63033                                                Come forth.        8   \n",
       "54656          ELINOR. Out, insolent! Thy bastard shall be king,        9   \n",
       "\n",
       "        distance  \n",
       "83225   0.699447  \n",
       "73996   0.794074  \n",
       "105532  0.801851  \n",
       "47838   0.776139  \n",
       "69814   0.846987  \n",
       "57140   0.762489  \n",
       "118811  0.656141  \n",
       "27196   0.779803  \n",
       "63033   0.786633  \n",
       "54656   0.769182  "
      ]
     },
     "execution_count": 19,
     "metadata": {},
     "output_type": "execute_result"
    }
   ],
   "source": [
    "# save closest message for each cluster\n",
    "cluster_closest = df[['line_text','cluster','distance']].loc[df.groupby('cluster')['distance'].idxmin()]\n",
    "cluster_closest.head(10)"
   ]
  },
  {
   "cell_type": "code",
   "execution_count": 20,
   "id": "8290710c",
   "metadata": {},
   "outputs": [],
   "source": [
    "# save cluster mapping to file\n",
    "cluster_closest.to_json(mapping_file, orient='table')"
   ]
  },
  {
   "cell_type": "code",
   "execution_count": 21,
   "id": "2d1bfd1f",
   "metadata": {},
   "outputs": [
    {
     "data": {
      "text/plain": [
       "['kmeans_shakespeare.joblib']"
      ]
     },
     "execution_count": 21,
     "metadata": {},
     "output_type": "execute_result"
    }
   ],
   "source": [
    "# save model to file\n",
    "# load model using load('filename.joblib') \n",
    "dump(kmeans, model_name)"
   ]
  }
 ],
 "metadata": {
  "kernelspec": {
   "display_name": "Python 3",
   "language": "python",
   "name": "python3"
  },
  "language_info": {
   "codemirror_mode": {
    "name": "ipython",
    "version": 3
   },
   "file_extension": ".py",
   "mimetype": "text/x-python",
   "name": "python",
   "nbconvert_exporter": "python",
   "pygments_lexer": "ipython3",
   "version": "3.8.0"
  }
 },
 "nbformat": 4,
 "nbformat_minor": 5
}
